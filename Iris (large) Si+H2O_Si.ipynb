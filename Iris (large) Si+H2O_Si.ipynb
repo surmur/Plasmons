{
 "cells": [
  {
   "cell_type": "code",
   "execution_count": 1,
   "metadata": {},
   "outputs": [],
   "source": [
    "import os\n",
    "import pandas as pd\n",
    "import matplotlib.pyplot as plt\n",
    "import re\n",
    "import numpy as np\n"
   ]
  },
  {
   "cell_type": "code",
   "execution_count": 2,
   "metadata": {},
   "outputs": [],
   "source": [
    "folder_path_1 = 'datafiles/20250331 Si hem with Iris (large) data/20250331'\n"
   ]
  },
  {
   "cell_type": "code",
   "execution_count": 3,
   "metadata": {},
   "outputs": [],
   "source": [
    "def extract_angle(filename):\n",
    "    # Look for the last number at the end of the filename, even if there's no extension\n",
    "    match = re.search(r\"(\\d+(?:\\.\\d+)?)\\s*(?=\\s*$|\\.\\w+$)\", filename)\n",
    "    return float(match.group(1)) if match else None"
   ]
  },
  {
   "cell_type": "code",
   "execution_count": 6,
   "metadata": {},
   "outputs": [
    {
     "name": "stderr",
     "output_type": "stream",
     "text": [
      "<>:4: SyntaxWarning: invalid escape sequence '\\s'\n",
      "<>:4: SyntaxWarning: invalid escape sequence '\\s'\n",
      "C:\\Users\\ar\\AppData\\Local\\Temp\\ipykernel_5188\\3742006320.py:4: SyntaxWarning: invalid escape sequence '\\s'\n",
      "  df = pd.read_csv(file_path, sep='\\s+', header=None, names=['wavenumber', 'Normed R'], encoding='ISO-8859-1')\n"
     ]
    }
   ],
   "source": [
    "def extract_data_from_single_file(file_path):\n",
    "    try:\n",
    "        # Try reading with different encodings\n",
    "        df = pd.read_csv(file_path, sep='\\s+', header=None, names=['wavenumber', 'Normed R'], encoding='ISO-8859-1')\n",
    "        return df\n",
    "    except Exception as e:\n",
    "        print(f\"Error reading {file_path}: {e}\")\n",
    "        return None"
   ]
  },
  {
   "cell_type": "code",
   "execution_count": 7,
   "metadata": {},
   "outputs": [],
   "source": [
    "# Function to iterate through the folder and extract data for different angles\n",
    "def read_dpt_files_in_folder(folder_path):\n",
    "    data = {}\n",
    "    for file in os.listdir(folder_path):\n",
    "        angle = extract_angle(file)\n",
    "        if angle is not None:\n",
    "            # Construct the full file path\n",
    "            file_path = os.path.join(folder_path, file)\n",
    "            # Extract data from the file\n",
    "            df = extract_data_from_single_file(file_path)\n",
    "            if df is not None:\n",
    "                data[angle] = df\n",
    "        \n",
    "            \n",
    "            \n",
    "    return data"
   ]
  },
  {
   "cell_type": "code",
   "execution_count": 8,
   "metadata": {},
   "outputs": [
    {
     "ename": "FileNotFoundError",
     "evalue": "[WinError 3] The system cannot find the path specified: 'datafiles/20250331 Si hem with Iris (large) data/20250331'",
     "output_type": "error",
     "traceback": [
      "\u001b[1;31m---------------------------------------------------------------------------\u001b[0m",
      "\u001b[1;31mFileNotFoundError\u001b[0m                         Traceback (most recent call last)",
      "Cell \u001b[1;32mIn[8], line 1\u001b[0m\n\u001b[1;32m----> 1\u001b[0m data_normed \u001b[38;5;241m=\u001b[39m read_dpt_files_in_folder(folder_path_1)\n",
      "Cell \u001b[1;32mIn[7], line 4\u001b[0m, in \u001b[0;36mread_dpt_files_in_folder\u001b[1;34m(folder_path)\u001b[0m\n\u001b[0;32m      2\u001b[0m \u001b[38;5;28;01mdef\u001b[39;00m \u001b[38;5;21mread_dpt_files_in_folder\u001b[39m(folder_path):\n\u001b[0;32m      3\u001b[0m     data \u001b[38;5;241m=\u001b[39m {}\n\u001b[1;32m----> 4\u001b[0m     \u001b[38;5;28;01mfor\u001b[39;00m file \u001b[38;5;129;01min\u001b[39;00m os\u001b[38;5;241m.\u001b[39mlistdir(folder_path):\n\u001b[0;32m      5\u001b[0m         angle \u001b[38;5;241m=\u001b[39m extract_angle(file)\n\u001b[0;32m      6\u001b[0m         \u001b[38;5;28;01mif\u001b[39;00m angle \u001b[38;5;129;01mis\u001b[39;00m \u001b[38;5;129;01mnot\u001b[39;00m \u001b[38;5;28;01mNone\u001b[39;00m:\n\u001b[0;32m      7\u001b[0m             \u001b[38;5;66;03m# Construct the full file path\u001b[39;00m\n",
      "\u001b[1;31mFileNotFoundError\u001b[0m: [WinError 3] The system cannot find the path specified: 'datafiles/20250331 Si hem with Iris (large) data/20250331'"
     ]
    }
   ],
   "source": [
    "data_normed = read_dpt_files_in_folder(folder_path_1)"
   ]
  },
  {
   "cell_type": "code",
   "execution_count": null,
   "metadata": {},
   "outputs": [],
   "source": [
    "# --- SELECT wavenumbers to plot (will match to nearest available) ---\n",
    "selected_wavenumbers = [1000, 2000, 5000]  # or any wavenumbers you want\n",
    "\n",
    "# --- Sorted angle list from the dictionary ---\n",
    "angles = sorted(data_normed.keys())\n",
    "\n",
    "# --- Get available wavenumbers from any sample DataFrame ---\n",
    "sample_df = next(iter(data_normed.values()))\n",
    "available_wavenumbers = sample_df[\"wavenumber\"].values\n",
    "\n",
    "# --- Match to nearest available wavenumber ---\n",
    "rounded_wavenumbers = [\n",
    "    available_wavenumbers[np.argmin(np.abs(available_wavenumbers - wn))]\n",
    "    for wn in selected_wavenumbers\n",
    "]\n",
    "\n",
    "# --- Plot reflectance vs angle for each wavenumber ---\n",
    "plt.figure(figsize=(8, 6))\n",
    "\n",
    "for wn in rounded_wavenumbers:\n",
    "    reflectances = []\n",
    "    for angle in angles:\n",
    "        df = data_normed[angle]\n",
    "        matched_row = df[np.isclose(df[\"wavenumber\"], wn)]\n",
    "        if not matched_row.empty:\n",
    "            reflectances.append(matched_row[\"Normed R\"].values[0])\n",
    "        else:\n",
    "            reflectances.append(np.nan)  # or 0, depending on preference\n",
    "\n",
    "    plt.plot(angles, reflectances, marker='o', linestyle='-', label=f'{wn:.1f} cm⁻¹')\n",
    "\n",
    "plt.title(\"Reflectance vs Angle at Selected Wavenumbers\")\n",
    "plt.xlabel(\"Angle of Incidence (degrees)\")\n",
    "plt.ylabel(\"Reflectance\")\n",
    "plt.ylim(0, 1.1)\n",
    "plt.grid(True)\n",
    "plt.legend(title=\"Wavenumber\")\n",
    "plt.tight_layout()\n",
    "plt.show()\n"
   ]
  },
  {
   "cell_type": "code",
   "execution_count": null,
   "metadata": {},
   "outputs": [],
   "source": [
    "# --- SELECT angles\n",
    "selected_angles = [10, 22, 23,30,40, 50]  # Update this list as you wish\n",
    "\n",
    "\n",
    "# --- Plot reflectance vs wavenumber for selected angles ---\n",
    "plt.figure(figsize=(8, 6))\n",
    "\n",
    "for angle in selected_angles:\n",
    "    if angle not in data_normed:\n",
    "        print(f\"Warning: angle {angle}° not found in data_normed.\")\n",
    "        continue\n",
    "\n",
    "    df = data_normed[angle]\n",
    "    wavenumbers = df[\"wavenumber\"].values\n",
    "    reflectance = df[\"Normed R\"].values\n",
    "    plt.plot(wavenumbers, reflectance, label=f\"{angle}°\")\n",
    "\n",
    "plt.title(\"Reflectance vs Wavenumber at Selected Angles\")\n",
    "plt.xlabel(\"Wavenumber (cm⁻¹)\")\n",
    "plt.ylabel(\"Reflectance\")\n",
    "plt.xlim(950, 6000)\n",
    "plt.ylim(0, 1.2)\n",
    "plt.grid(True)\n",
    "plt.legend(title=\"Angle\")\n",
    "plt.tight_layout()\n",
    "plt.show()\n"
   ]
  },
  {
   "cell_type": "code",
   "execution_count": null,
   "metadata": {},
   "outputs": [],
   "source": [
    "# --- Get sorted list of angles ---\n",
    "angles = sorted(data_normed.keys())\n",
    "\n",
    "# --- Extract wavenumbers from one sample DataFrame ---\n",
    "sample_df = next(iter(data_normed.values()))\n",
    "wavenumbers = sample_df['wavenumber'].values\n",
    "\n",
    "# --- Optional: clip wavenumber range ---\n",
    "wmin, wmax = 950, 6000\n",
    "mask = (wavenumbers >= wmin) & (wavenumbers <= wmax)\n",
    "wavenumbers_clipped = wavenumbers[mask]\n",
    "\n",
    "# --- Build 2D array for Normed R ---\n",
    "R_matrix = np.array([\n",
    "    data_normed[angle]['Normed R'].values[mask]\n",
    "    for angle in angles\n",
    "])\n",
    "\n",
    "# --- Meshgrid for contour plotting ---\n",
    "W_grid, A_grid = np.meshgrid(wavenumbers_clipped, angles)\n",
    "\n",
    "# --- Plot contour ---\n",
    "plt.figure(figsize=(8, 6))\n",
    "contour = plt.contourf(W_grid, A_grid, R_matrix, levels=100, cmap='jet', vmin=0, vmax=1.2)\n",
    "plt.colorbar(contour, label='Normed Reflectance (R)')\n",
    "plt.title('R vs Wavenumber and Angle of Incidence')\n",
    "plt.xlabel('Wavenumber (cm⁻¹)')\n",
    "plt.ylabel('Angle of Incidence (degrees)')\n",
    "plt.tight_layout()\n",
    "plt.show()\n"
   ]
  }
 ],
 "metadata": {
  "kernelspec": {
   "display_name": "base",
   "language": "python",
   "name": "python3"
  },
  "language_info": {
   "codemirror_mode": {
    "name": "ipython",
    "version": 3
   },
   "file_extension": ".py",
   "mimetype": "text/x-python",
   "name": "python",
   "nbconvert_exporter": "python",
   "pygments_lexer": "ipython3",
   "version": "3.12.3"
  }
 },
 "nbformat": 4,
 "nbformat_minor": 2
}
